{
 "cells": [
  {
   "cell_type": "markdown",
   "metadata": {},
   "source": [
    "<p style=\"text-align:center\">\n",
    "    <a href=\"https://skills.network/?utm_medium=Exinfluencer&utm_source=Exinfluencer&utm_content=000026UJ&utm_term=10006555&utm_id=NA-SkillsNetwork-Channel-SkillsNetworkCoursesIBMSkillsNetworkBD0231ENCoursera2789-2023-01-01\">\n",
    "    <img src=\"https://cf-courses-data.s3.us.cloud-object-storage.appdomain.cloud/assets/logos/SN_web_lightmode.png\" width=\"200\" alt=\"Skills Network Logo\">\n",
    "    </a>\n",
    "</p>\n"
   ]
  },
  {
   "cell_type": "markdown",
   "metadata": {},
   "source": [
    "## Final Project - Build an ML Pipeline for Airfoil noise prediction\n"
   ]
  },
  {
   "cell_type": "markdown",
   "metadata": {},
   "source": [
    "Estimated time needed: **90** minutes\n"
   ]
  },
  {
   "cell_type": "markdown",
   "metadata": {},
   "source": [
    "## Scenario\n"
   ]
  },
  {
   "cell_type": "markdown",
   "metadata": {},
   "source": [
    "You are a data engineer at an aeronautics consulting company. Your company prides itself in being able to efficiently design airfoils for use in planes and sports cars. Data scientists in your office need to work with different algorithms and data in different formats. While they are good at Machine Learning, they count on you to be able to do ETL jobs and build ML pipelines. In this project you will use the modified version of the NASA Airfoil Self Noise dataset. You will clean this dataset, by dropping the duplicate rows, and removing the rows with null values. You will create an ML pipe line to create a model that will predict the SoundLevel based on all the other columns. You will evaluate the model and towards the end you will persist the model.\n",
    "\n"
   ]
  },
  {
   "cell_type": "markdown",
   "metadata": {},
   "source": [
    "## Objectives\n",
    "\n",
    "In this 4 part assignment you will:\n",
    "\n",
    "- Part 1 Perform ETL activity\n",
    "  - Load a csv dataset\n",
    "  - Remove duplicates if any\n",
    "  - Drop rows with null values if any\n",
    "  - Make transformations\n",
    "  - Store the cleaned data in parquet format\n",
    "- Part 2 Create a  Machine Learning Pipeline\n",
    "  - Create a machine learning pipeline for prediction\n",
    "- Part 3 Evaluate the Model\n",
    "  - Evaluate the model using relevant metrics\n",
    "- Part 4 Persist the Model \n",
    "  - Save the model for future production use\n",
    "  - Load and verify the stored model\n"
   ]
  },
  {
   "cell_type": "markdown",
   "metadata": {},
   "source": [
    "## Datasets\n",
    "\n",
    "In this lab you will be using dataset(s):\n",
    "\n",
    " - The original dataset can be found here NASA airfoil self noise dataset. https://archive.ics.uci.edu/dataset/291/airfoil+self+noise\n",
    " \n",
    " - This dataset is licensed under a Creative Commons Attribution 4.0 International (CC BY 4.0) license.\n"
   ]
  },
  {
   "cell_type": "markdown",
   "metadata": {},
   "source": [
    "Diagram of an airfoil. - For informational purpose\n"
   ]
  },
  {
   "cell_type": "markdown",
   "metadata": {},
   "source": [
    "![Airfoil with flow](https://cf-courses-data.s3.us.cloud-object-storage.appdomain.cloud/IBMSkillsNetwork-BD0231EN-Coursera/images/Airfoil_with_flow.png)\n"
   ]
  },
  {
   "cell_type": "markdown",
   "metadata": {},
   "source": [
    "Diagram showing the Angle of attack. - For informational purpose\n"
   ]
  },
  {
   "cell_type": "markdown",
   "metadata": {},
   "source": [
    "![Airfoil angle of attack](https://cf-courses-data.s3.us.cloud-object-storage.appdomain.cloud/IBMSkillsNetwork-BD0231EN-Coursera/images/Airfoil_angle_of_attack.jpg)\n"
   ]
  },
  {
   "cell_type": "markdown",
   "metadata": {},
   "source": [
    "## Before you Start\n"
   ]
  },
  {
   "cell_type": "markdown",
   "metadata": {},
   "source": [
    "**Before you start attempting this project it is highly recommended that you finish the practice project.**\n"
   ]
  },
  {
   "cell_type": "markdown",
   "metadata": {},
   "source": [
    "## Setup\n"
   ]
  },
  {
   "cell_type": "markdown",
   "metadata": {},
   "source": [
    "For this lab, we will be using the following libraries:\n",
    "\n",
    "*   [`PySpark`](https://spark.apache.org/docs/latest/api/python/index.html?utm_medium=Exinfluencer&utm_source=Exinfluencer&utm_content=000026UJ&utm_term=10006555&utm_id=NA-SkillsNetwork-Channel-SkillsNetworkCoursesIBMSkillsNetworkBD0231ENCoursera2789-2023-01-01) for connecting to the Spark Cluster\n"
   ]
  },
  {
   "cell_type": "markdown",
   "metadata": {},
   "source": [
    "### Installing Required Libraries\n",
    "\n",
    "Spark Cluster is pre-installed in the Skills Network Labs environment. However, you need libraries like pyspark and findspark to\n",
    " connect to this cluster.\n"
   ]
  },
  {
   "cell_type": "markdown",
   "metadata": {},
   "source": [
    "The following required libraries are __not__ pre-installed in the Skills Network Labs environment. __You will need to run the following cell__ to install them:\n"
   ]
  },
  {
   "cell_type": "code",
   "execution_count": 8,
   "metadata": {
    "tags": []
   },
   "outputs": [],
   "source": [
    "!pip install pyspark==3.1.2 -q\n",
    "!pip install findspark -q"
   ]
  },
  {
   "cell_type": "markdown",
   "metadata": {},
   "source": [
    "### Importing Required Libraries\n",
    "\n",
    "_We recommend you import all required libraries in one place (here):_\n"
   ]
  },
  {
   "cell_type": "code",
   "execution_count": 9,
   "metadata": {
    "tags": []
   },
   "outputs": [],
   "source": [
    "# You can also use this section to suppress warnings generated by your code:\n",
    "def warn(*args, **kwargs):\n",
    "    pass\n",
    "import warnings\n",
    "warnings.warn = warn\n",
    "warnings.filterwarnings('ignore')\n",
    "\n",
    "# FindSpark simplifies the process of using Apache Spark with Python\n",
    "\n",
    "import findspark\n",
    "findspark.init()"
   ]
  },
  {
   "cell_type": "markdown",
   "metadata": {},
   "source": [
    "## Part 1 - Perform ETL activity\n"
   ]
  },
  {
   "cell_type": "markdown",
   "metadata": {},
   "source": [
    "### Task 1 - Import required libraries\n"
   ]
  },
  {
   "cell_type": "code",
   "execution_count": 10,
   "metadata": {
    "tags": []
   },
   "outputs": [],
   "source": [
    "#your code goes here\n",
    "from pyspark.sql import SparkSession\n",
    "import matplotlib.pyplot as plt\n",
    "import pyspark.sql.functions as F\n",
    "import pandas as pd\n",
    "\n",
    "from pyspark.sql.functions import col, expr,upper,udf,length,size,split,concat,regexp_replace,row_number,count\n",
    "from pyspark.sql.types import DoubleType,StringType\n",
    "from pyspark.sql import SparkSession\n",
    "from pyspark.ml.feature import Tokenizer, CountVectorizer, IDF\n",
    "from pyspark.ml import Pipeline\n",
    "from pyspark.sql.window import Window\n"
   ]
  },
  {
   "cell_type": "markdown",
   "metadata": {},
   "source": [
    "### Task 2 - Create a spark session\n"
   ]
  },
  {
   "cell_type": "code",
   "execution_count": 11,
   "metadata": {
    "tags": []
   },
   "outputs": [],
   "source": [
    "#Create a SparkSession\n",
    "# Initialize Spark session\n",
    "\n",
    "spark = SparkSession.builder.appName(\"Practice Project\").getOrCreate()\n"
   ]
  },
  {
   "cell_type": "markdown",
   "metadata": {},
   "source": [
    "### Task 3 - Load the csv file into a dataframe\n"
   ]
  },
  {
   "cell_type": "markdown",
   "metadata": {},
   "source": [
    "Download the data file.\n",
    "\n",
    "NOTE : Please ensure you use the dataset below and not the original dataset mentioned above.\n"
   ]
  },
  {
   "cell_type": "code",
   "execution_count": 12,
   "metadata": {
    "tags": []
   },
   "outputs": [
    {
     "name": "stdout",
     "output_type": "stream",
     "text": [
      "--2024-10-14 05:56:38--  https://cf-courses-data.s3.us.cloud-object-storage.appdomain.cloud/IBMSkillsNetwork-BD0231EN-Coursera/datasets/NASA_airfoil_noise_raw.csv\n",
      "Resolving cf-courses-data.s3.us.cloud-object-storage.appdomain.cloud (cf-courses-data.s3.us.cloud-object-storage.appdomain.cloud)... 169.63.118.104, 169.63.118.104\n",
      "Connecting to cf-courses-data.s3.us.cloud-object-storage.appdomain.cloud (cf-courses-data.s3.us.cloud-object-storage.appdomain.cloud)|169.63.118.104|:443... connected.\n",
      "HTTP request sent, awaiting response... 200 OK\n",
      "Length: 60682 (59K) [text/csv]\n",
      "Saving to: ‘NASA_airfoil_noise_raw.csv.2’\n",
      "\n",
      "NASA_airfoil_noise_ 100%[===================>]  59.26K  --.-KB/s    in 0.001s  \n",
      "\n",
      "2024-10-14 05:56:38 (70.2 MB/s) - ‘NASA_airfoil_noise_raw.csv.2’ saved [60682/60682]\n",
      "\n"
     ]
    }
   ],
   "source": [
    "!wget https://cf-courses-data.s3.us.cloud-object-storage.appdomain.cloud/IBMSkillsNetwork-BD0231EN-Coursera/datasets/NASA_airfoil_noise_raw.csv\n"
   ]
  },
  {
   "cell_type": "markdown",
   "metadata": {},
   "source": [
    "Load the dataset into the spark dataframe\n"
   ]
  },
  {
   "cell_type": "code",
   "execution_count": 23,
   "metadata": {
    "tags": []
   },
   "outputs": [
    {
     "name": "stdout",
     "output_type": "stream",
     "text": [
      "+---------+-------------+-----------+------------------+-----------------------+----------+\n",
      "|Frequency|AngleOfAttack|ChordLength|FreeStreamVelocity|SuctionSideDisplacement|SoundLevel|\n",
      "+---------+-------------+-----------+------------------+-----------------------+----------+\n",
      "|      800|          0.0|     0.3048|              71.3|             0.00266337|   126.201|\n",
      "|     1000|          0.0|     0.3048|              71.3|             0.00266337|   125.201|\n",
      "|     1250|          0.0|     0.3048|              71.3|             0.00266337|   125.951|\n",
      "|     1600|          0.0|     0.3048|              71.3|             0.00266337|   127.591|\n",
      "|     2000|          0.0|     0.3048|              71.3|             0.00266337|   127.461|\n",
      "|     2500|          0.0|     0.3048|              71.3|             0.00266337|   125.571|\n",
      "|     3150|          0.0|     0.3048|              71.3|             0.00266337|   125.201|\n",
      "|     4000|          0.0|     0.3048|              71.3|             0.00266337|   123.061|\n",
      "|     5000|          0.0|     0.3048|              71.3|             0.00266337|   121.301|\n",
      "|     6300|          0.0|     0.3048|              71.3|             0.00266337|   119.541|\n",
      "|     8000|          0.0|     0.3048|              71.3|             0.00266337|   117.151|\n",
      "|    10000|          0.0|     0.3048|              71.3|             0.00266337|   115.391|\n",
      "|    12500|          0.0|     0.3048|              71.3|             0.00266337|   112.241|\n",
      "|    16000|          0.0|     0.3048|              71.3|             0.00266337|   108.721|\n",
      "|      500|          0.0|     0.3048|              55.5|             0.00283081|   126.416|\n",
      "|      630|          0.0|     0.3048|              55.5|             0.00283081|   127.696|\n",
      "|      800|          0.0|     0.3048|              55.5|             0.00283081|   128.086|\n",
      "|     1000|          0.0|     0.3048|              55.5|             0.00283081|   126.966|\n",
      "|     1250|          0.0|     0.3048|              55.5|             0.00283081|   126.086|\n",
      "|     1600|          0.0|     0.3048|              55.5|             0.00283081|   126.986|\n",
      "+---------+-------------+-----------+------------------+-----------------------+----------+\n",
      "only showing top 20 rows\n",
      "\n"
     ]
    }
   ],
   "source": [
    "# Load the dataset that you have downloaded in the previous task\n",
    "\n",
    "df = spark.read.csv('NASA_airfoil_noise_raw.csv',header = True, inferSchema=True)\n",
    "df.show()"
   ]
  },
  {
   "cell_type": "markdown",
   "metadata": {},
   "source": [
    "### Task 4 - Print top 5 rows of the dataset\n"
   ]
  },
  {
   "cell_type": "code",
   "execution_count": 24,
   "metadata": {
    "tags": []
   },
   "outputs": [
    {
     "name": "stdout",
     "output_type": "stream",
     "text": [
      "+---------+-------------+-----------+------------------+-----------------------+----------+\n",
      "|Frequency|AngleOfAttack|ChordLength|FreeStreamVelocity|SuctionSideDisplacement|SoundLevel|\n",
      "+---------+-------------+-----------+------------------+-----------------------+----------+\n",
      "|      800|          0.0|     0.3048|              71.3|             0.00266337|   126.201|\n",
      "|     1000|          0.0|     0.3048|              71.3|             0.00266337|   125.201|\n",
      "|     1250|          0.0|     0.3048|              71.3|             0.00266337|   125.951|\n",
      "|     1600|          0.0|     0.3048|              71.3|             0.00266337|   127.591|\n",
      "|     2000|          0.0|     0.3048|              71.3|             0.00266337|   127.461|\n",
      "+---------+-------------+-----------+------------------+-----------------------+----------+\n",
      "only showing top 5 rows\n",
      "\n"
     ]
    }
   ],
   "source": [
    "#your code goes here\n",
    "df.show(5)"
   ]
  },
  {
   "cell_type": "markdown",
   "metadata": {},
   "source": [
    "### Task 6 - Print the total number of rows in the dataset\n"
   ]
  },
  {
   "cell_type": "code",
   "execution_count": 25,
   "metadata": {
    "tags": []
   },
   "outputs": [
    {
     "name": "stdout",
     "output_type": "stream",
     "text": [
      "1522\n"
     ]
    }
   ],
   "source": [
    "#your code goes here\n",
    "rowcount1 = df.count()\n",
    "print(rowcount1)"
   ]
  },
  {
   "cell_type": "markdown",
   "metadata": {},
   "source": [
    "### Task 7 - Drop all the duplicate rows from the dataset\n"
   ]
  },
  {
   "cell_type": "code",
   "execution_count": 26,
   "metadata": {
    "tags": []
   },
   "outputs": [],
   "source": [
    "df = df.dropDuplicates()#\n"
   ]
  },
  {
   "cell_type": "markdown",
   "metadata": {},
   "source": [
    "### Task 8 - Print the total number of rows in the dataset\n"
   ]
  },
  {
   "cell_type": "code",
   "execution_count": 27,
   "metadata": {
    "tags": []
   },
   "outputs": [
    {
     "name": "stderr",
     "output_type": "stream",
     "text": [
      "[Stage 26:============================================>         (163 + 9) / 200]"
     ]
    },
    {
     "name": "stdout",
     "output_type": "stream",
     "text": [
      "1503\n"
     ]
    },
    {
     "name": "stderr",
     "output_type": "stream",
     "text": [
      "                                                                                \r"
     ]
    }
   ],
   "source": [
    "#your code goes here\n",
    "\n",
    "rowcount2 =df.count()\n",
    "print(rowcount2)\n"
   ]
  },
  {
   "cell_type": "markdown",
   "metadata": {},
   "source": [
    "### Task 9 - Drop all the rows that contain null values from the dataset\n"
   ]
  },
  {
   "cell_type": "code",
   "execution_count": 28,
   "metadata": {
    "tags": []
   },
   "outputs": [],
   "source": [
    "df = df.dropna()\n"
   ]
  },
  {
   "cell_type": "markdown",
   "metadata": {},
   "source": [
    "### Task 10 - Print the total number of rows in the dataset\n"
   ]
  },
  {
   "cell_type": "code",
   "execution_count": 29,
   "metadata": {
    "tags": []
   },
   "outputs": [
    {
     "name": "stderr",
     "output_type": "stream",
     "text": [
      "[Stage 29:==========================================>           (157 + 8) / 200]"
     ]
    },
    {
     "name": "stdout",
     "output_type": "stream",
     "text": [
      "1499\n"
     ]
    },
    {
     "name": "stderr",
     "output_type": "stream",
     "text": [
      "                                                                                \r"
     ]
    }
   ],
   "source": [
    "#your code goes here\n",
    "\n",
    "rowcount3 = df.count()\n",
    "print(rowcount3)\n"
   ]
  },
  {
   "cell_type": "markdown",
   "metadata": {},
   "source": [
    "### Task 11 - Rename the column \"SoundLevel\" to \"SoundLevelDecibels\"\n"
   ]
  },
  {
   "cell_type": "code",
   "execution_count": 30,
   "metadata": {
    "tags": []
   },
   "outputs": [
    {
     "name": "stdout",
     "output_type": "stream",
     "text": [
      "+---------+-------------+-----------+------------------+-----------------------+------------------+\n",
      "|Frequency|AngleOfAttack|ChordLength|FreeStreamVelocity|SuctionSideDisplacement|SoundLevelDecibels|\n",
      "+---------+-------------+-----------+------------------+-----------------------+------------------+\n",
      "|     4000|          3.0|     0.3048|              31.7|             0.00529514|           115.608|\n",
      "|     3150|          2.0|     0.2286|              31.7|             0.00372371|           121.527|\n",
      "|     2000|          7.3|     0.2286|              31.7|              0.0132672|           115.309|\n",
      "|     2000|          5.4|     0.1524|              71.3|             0.00401199|           131.111|\n",
      "|      500|          9.9|     0.1524|              71.3|              0.0193001|           131.279|\n",
      "|     1000|         12.6|     0.1524|              71.3|              0.0483159|           122.044|\n",
      "|    12500|          0.0|     0.0254|              39.6|             4.28464E-4|           129.116|\n",
      "|     1600|          4.8|     0.0254|              39.6|             9.07475E-4|           125.966|\n",
      "|     2000|         15.6|     0.1016|              71.3|              0.0437259|           119.888|\n",
      "|     6300|          0.0|     0.2286|              31.7|              0.0027238|           116.815|\n",
      "|     6300|          2.7|     0.1524|              39.6|             0.00294804|           119.209|\n",
      "|      630|          5.4|     0.1524|              31.7|             0.00525474|           131.471|\n",
      "|      800|         17.4|     0.0254|              31.7|              0.0176631|           139.226|\n",
      "|     2000|          0.0|     0.1016|              31.7|             0.00150092|           133.153|\n",
      "|      200|         15.6|     0.1016|              39.6|              0.0528487|           123.514|\n",
      "|     1000|          0.0|     0.3048|              71.3|             0.00266337|           125.201|\n",
      "|     1250|          0.0|     0.3048|              71.3|             0.00266337|           125.951|\n",
      "|      800|          2.7|     0.1524|              39.6|             0.00294804|           128.829|\n",
      "|     3150|          9.5|     0.0254|              39.6|             0.00449821|           129.934|\n",
      "|     6300|         12.7|     0.0254|              71.3|              0.0121808|           125.398|\n",
      "+---------+-------------+-----------+------------------+-----------------------+------------------+\n",
      "only showing top 20 rows\n",
      "\n"
     ]
    }
   ],
   "source": [
    "# your code goes here\n",
    "\n",
    "df = df.withColumn('SoundLevelDecibels',df['SoundLevel'])\n",
    "df = df.drop('SoundLevel')\n",
    "df.show()"
   ]
  },
  {
   "cell_type": "markdown",
   "metadata": {},
   "source": [
    "### Task 12 - Save the dataframe in parquet format, name the file as \"NASA_airfoil_noise_cleaned.parquet\"\n"
   ]
  },
  {
   "cell_type": "code",
   "execution_count": 31,
   "metadata": {
    "tags": []
   },
   "outputs": [
    {
     "name": "stderr",
     "output_type": "stream",
     "text": [
      "                                                                                \r"
     ]
    }
   ],
   "source": [
    "# your code goes here\n",
    "df.write.mode(\"overwrite\").parquet(\"NASA_airfoil_noise_cleaned.parquet\")\n",
    "#df.write.parquet(\"NASA_airfoil_noise_cleaned2.parquet\")\n"
   ]
  },
  {
   "cell_type": "markdown",
   "metadata": {
    "tags": []
   },
   "source": [
    "#### Part 1 - Evaluation\n"
   ]
  },
  {
   "cell_type": "markdown",
   "metadata": {},
   "source": [
    "\n",
    "**Run the code cell below.**<br>\n",
    "**Use the answers here to answer the final evaluation quiz in the next section.**<br>\n",
    "**If the code throws up any errors, go back and review the code you have written.**</b>\n"
   ]
  },
  {
   "cell_type": "code",
   "execution_count": 32,
   "metadata": {
    "tags": []
   },
   "outputs": [
    {
     "name": "stdout",
     "output_type": "stream",
     "text": [
      "Part 1 - Evaluation\n",
      "Total rows =  1522\n",
      "Total rows after dropping duplicate rows =  1503\n",
      "Total rows after dropping duplicate rows and rows with null values =  1499\n",
      "New column name =  SoundLevelDecibels\n",
      "NASA_airfoil_noise_cleaned.parquet exists : True\n"
     ]
    }
   ],
   "source": [
    "print(\"Part 1 - Evaluation\")\n",
    "\n",
    "print(\"Total rows = \", rowcount1)\n",
    "print(\"Total rows after dropping duplicate rows = \", rowcount2)\n",
    "print(\"Total rows after dropping duplicate rows and rows with null values = \", rowcount3)\n",
    "print(\"New column name = \", df.columns[-1])\n",
    "\n",
    "import os\n",
    "\n",
    "print(\"NASA_airfoil_noise_cleaned.parquet exists :\", os.path.isdir(\"NASA_airfoil_noise_cleaned.parquet\"))"
   ]
  },
  {
   "cell_type": "markdown",
   "metadata": {},
   "source": [
    "## Part - 2 Create a  Machine Learning Pipeline\n"
   ]
  },
  {
   "cell_type": "markdown",
   "metadata": {},
   "source": [
    "### Task 1 - Load data from \"NASA_airfoil_noise_cleaned.parquet\" into a dataframe\n"
   ]
  },
  {
   "cell_type": "code",
   "execution_count": 33,
   "metadata": {
    "tags": []
   },
   "outputs": [],
   "source": [
    "#your code goes here\n",
    "\n",
    "df = spark.read.parquet('NASA_airfoil_noise_cleaned.parquet')\n"
   ]
  },
  {
   "cell_type": "markdown",
   "metadata": {},
   "source": [
    "### Task 2 - Print the total number of rows in the dataset\n"
   ]
  },
  {
   "cell_type": "code",
   "execution_count": 34,
   "metadata": {
    "tags": []
   },
   "outputs": [
    {
     "name": "stdout",
     "output_type": "stream",
     "text": [
      "+---------+-------------+-----------+------------------+-----------------------+------------------+\n",
      "|Frequency|AngleOfAttack|ChordLength|FreeStreamVelocity|SuctionSideDisplacement|SoundLevelDecibels|\n",
      "+---------+-------------+-----------+------------------+-----------------------+------------------+\n",
      "|      630|          0.0|     0.3048|              31.7|             0.00331266|           129.095|\n",
      "|     4000|          0.0|     0.3048|              31.7|             0.00331266|           118.145|\n",
      "|     4000|          1.5|     0.3048|              39.6|             0.00392107|           117.741|\n",
      "|      800|          4.0|     0.3048|              71.3|             0.00497773|           131.755|\n",
      "|     1250|          0.0|     0.2286|              31.7|              0.0027238|           128.805|\n",
      "|     2500|          4.0|     0.2286|              55.5|              0.0042862|           122.384|\n",
      "|     1250|          7.3|     0.2286|              71.3|              0.0104404|           127.358|\n",
      "|     2000|         12.6|     0.1524|              71.3|              0.0483159|           117.504|\n",
      "|      800|          8.4|     0.0508|              55.5|             0.00544854|           128.562|\n",
      "|      800|         11.2|     0.0508|              71.3|               0.014072|           136.031|\n",
      "|      200|         15.4|     0.0508|              31.7|              0.0289853|           119.975|\n",
      "|     4000|         22.2|     0.0254|              71.3|              0.0214178|           123.917|\n",
      "|     5000|          3.3|     0.1016|              71.3|             0.00202822|           127.054|\n",
      "|     1600|          3.3|     0.1016|              55.5|               0.002211|           133.649|\n",
      "|     2500|          3.3|     0.1016|              31.7|             0.00251435|           130.392|\n",
      "|      800|          6.7|     0.1016|              31.7|             0.00592927|           132.886|\n",
      "|     1250|         15.6|     0.1016|              39.6|              0.0528487|           118.214|\n",
      "|      500|          2.0|     0.2286|              71.3|             0.00293031|           126.486|\n",
      "|     2000|          2.0|     0.2286|              39.6|             0.00346574|           122.797|\n",
      "|     4000|          2.0|     0.2286|              31.7|             0.00372371|           120.527|\n",
      "+---------+-------------+-----------+------------------+-----------------------+------------------+\n",
      "only showing top 20 rows\n",
      "\n"
     ]
    }
   ],
   "source": [
    "df.show()"
   ]
  },
  {
   "cell_type": "code",
   "execution_count": 35,
   "metadata": {
    "tags": []
   },
   "outputs": [
    {
     "name": "stderr",
     "output_type": "stream",
     "text": [
      "[Stage 39:>                                                         (0 + 8) / 8]"
     ]
    },
    {
     "name": "stdout",
     "output_type": "stream",
     "text": [
      "1499\n"
     ]
    },
    {
     "name": "stderr",
     "output_type": "stream",
     "text": [
      "                                                                                \r"
     ]
    }
   ],
   "source": [
    "#your code goes here\n",
    "\n",
    "rowcount4 = df.count()\n",
    "print(rowcount4)\n",
    "\n"
   ]
  },
  {
   "cell_type": "markdown",
   "metadata": {},
   "source": [
    "### Task 3 - Define the VectorAssembler pipeline stage\n"
   ]
  },
  {
   "cell_type": "markdown",
   "metadata": {},
   "source": [
    "Stage 1 - Assemble the input columns into a single column \"features\". Use all the columns except SoundLevelDecibels as input features.\n"
   ]
  },
  {
   "cell_type": "code",
   "execution_count": null,
   "metadata": {
    "tags": []
   },
   "outputs": [],
   "source": [
    "df=df.withColumn('Frequency',df['Frequency'].cast(\"float\").alias('Frequency'))\n",
    "df=df.withColumn('AngleOfAttack',df['AngleOfAttack'].cast(\"float\").alias('AngleOfAttack'))\n",
    "df=df.withColumn('ChordLength',df['ChordLength'].cast(\"float\").alias('ChordLength'))\n",
    "df=df.withColumn('FreeStreamVelocity',df['FreeStreamVelocity'].cast(\"float\").alias('FreeStreamVelocity'))\n",
    "df=df.withColumn('SuctionSideDisplacement',df['SuctionSideDisplacement'].cast(\"float\").alias('SuctionSideDisplacement'))\n",
    "df=df.withColumn('SoundLevelDecibels',df['SoundLevelDecibels'].cast(\"float\").alias('SoundLevelDecibels'))\n"
   ]
  },
  {
   "cell_type": "code",
   "execution_count": 36,
   "metadata": {
    "tags": []
   },
   "outputs": [],
   "source": [
    "#your code goes here\n",
    "from pyspark.ml.feature import VectorAssembler\n",
    "from pyspark.ml.linalg import Vectors\n",
    "\n",
    "assembler = VectorAssembler(\n",
    "    inputCols=[\"Frequency\", \"AngleOfAttack\", \"ChordLength\",'FreeStreamVelocity','SuctionSideDisplacement'],\n",
    "    outputCol=\"mmm\")\n",
    "\n",
    "#output = assembler.transform(df)\n",
    "#output.select( \"marks\").show(truncate=False)"
   ]
  },
  {
   "cell_type": "code",
   "execution_count": 37,
   "metadata": {
    "tags": []
   },
   "outputs": [
    {
     "name": "stdout",
     "output_type": "stream",
     "text": [
      "+---------+-------------+-----------+------------------+-----------------------+------------------+\n",
      "|Frequency|AngleOfAttack|ChordLength|FreeStreamVelocity|SuctionSideDisplacement|SoundLevelDecibels|\n",
      "+---------+-------------+-----------+------------------+-----------------------+------------------+\n",
      "|      630|          0.0|     0.3048|              31.7|             0.00331266|           129.095|\n",
      "|     4000|          0.0|     0.3048|              31.7|             0.00331266|           118.145|\n",
      "|     4000|          1.5|     0.3048|              39.6|             0.00392107|           117.741|\n",
      "|      800|          4.0|     0.3048|              71.3|             0.00497773|           131.755|\n",
      "|     1250|          0.0|     0.2286|              31.7|              0.0027238|           128.805|\n",
      "|     2500|          4.0|     0.2286|              55.5|              0.0042862|           122.384|\n",
      "|     1250|          7.3|     0.2286|              71.3|              0.0104404|           127.358|\n",
      "|     2000|         12.6|     0.1524|              71.3|              0.0483159|           117.504|\n",
      "|      800|          8.4|     0.0508|              55.5|             0.00544854|           128.562|\n",
      "|      800|         11.2|     0.0508|              71.3|               0.014072|           136.031|\n",
      "|      200|         15.4|     0.0508|              31.7|              0.0289853|           119.975|\n",
      "|     4000|         22.2|     0.0254|              71.3|              0.0214178|           123.917|\n",
      "|     5000|          3.3|     0.1016|              71.3|             0.00202822|           127.054|\n",
      "|     1600|          3.3|     0.1016|              55.5|               0.002211|           133.649|\n",
      "|     2500|          3.3|     0.1016|              31.7|             0.00251435|           130.392|\n",
      "|      800|          6.7|     0.1016|              31.7|             0.00592927|           132.886|\n",
      "|     1250|         15.6|     0.1016|              39.6|              0.0528487|           118.214|\n",
      "|      500|          2.0|     0.2286|              71.3|             0.00293031|           126.486|\n",
      "|     2000|          2.0|     0.2286|              39.6|             0.00346574|           122.797|\n",
      "|     4000|          2.0|     0.2286|              31.7|             0.00372371|           120.527|\n",
      "+---------+-------------+-----------+------------------+-----------------------+------------------+\n",
      "only showing top 20 rows\n",
      "\n"
     ]
    }
   ],
   "source": [
    "df.show()"
   ]
  },
  {
   "cell_type": "markdown",
   "metadata": {},
   "source": [
    "### Task 4 - Define the StandardScaler pipeline stage\n"
   ]
  },
  {
   "cell_type": "markdown",
   "metadata": {},
   "source": [
    "Stage 2 - Scale the \"features\" using standard scaler and store in \"scaledFeatures\" column\n"
   ]
  },
  {
   "cell_type": "code",
   "execution_count": 38,
   "metadata": {
    "tags": []
   },
   "outputs": [],
   "source": [
    "#your code goes here\n",
    "from pyspark.ml.feature import MinMaxScaler, StandardScaler\n",
    "\n",
    "scaler = StandardScaler(inputCol=\"mmm\", outputCol=\"sss\")\n",
    "\n",
    "#scaler_model = scaler.fit(output.select(\"marks\"))\n",
    "#sdf_scaled = scaler_model.transform(output)\n",
    "#sdf_scaled.show()\n"
   ]
  },
  {
   "cell_type": "markdown",
   "metadata": {
    "tags": []
   },
   "source": [
    "### Task 5 - Define the Model creation pipeline stage\n"
   ]
  },
  {
   "cell_type": "markdown",
   "metadata": {},
   "source": [
    "Stage 3 - Create a LinearRegression stage to predict \"SoundLevelDecibels\"\n",
    "\n",
    "**Note:You need to use the scaledfeatures retreived in the previous step(StandardScaler pipeline stage).**\n"
   ]
  },
  {
   "cell_type": "code",
   "execution_count": 39,
   "metadata": {
    "tags": []
   },
   "outputs": [],
   "source": [
    "#your code goes here\n",
    "from pyspark.ml.regression import LinearRegression\n",
    "lr = LinearRegression(featuresCol=\"sss\",labelCol=\"SoundLevelDecibels\",  predictionCol=\"predicted_sd\")\n"
   ]
  },
  {
   "cell_type": "markdown",
   "metadata": {
    "tags": []
   },
   "source": [
    "### Task 6 - Build the pipeline\n"
   ]
  },
  {
   "cell_type": "markdown",
   "metadata": {},
   "source": [
    "Build a pipeline using the above three stages\n"
   ]
  },
  {
   "cell_type": "code",
   "execution_count": 40,
   "metadata": {
    "tags": []
   },
   "outputs": [],
   "source": [
    "#your code goes here\n",
    "from pyspark.ml import Pipeline\n",
    "\n",
    "pipelinenew = Pipeline(stages=[assembler, scaler, lr])\n"
   ]
  },
  {
   "cell_type": "markdown",
   "metadata": {},
   "source": [
    "### Task 7 - Split the data\n"
   ]
  },
  {
   "cell_type": "code",
   "execution_count": 41,
   "metadata": {
    "tags": []
   },
   "outputs": [],
   "source": [
    "# Split the data into training and testing sets with 70:30 split.\n",
    "# set the value of seed to 42\n",
    "# the above step is very important. DO NOT set the value of seed to any other value other than 42.\n",
    "\n",
    "#your code goes here\n",
    "\n",
    "(trainingData, testingData) = df.randomSplit(weights=[0.7,0.3], seed=42)\n",
    "\n",
    "\n"
   ]
  },
  {
   "cell_type": "markdown",
   "metadata": {},
   "source": [
    "### Task 8 - Fit the pipeline\n"
   ]
  },
  {
   "cell_type": "code",
   "execution_count": 42,
   "metadata": {
    "tags": []
   },
   "outputs": [
    {
     "name": "stderr",
     "output_type": "stream",
     "text": [
      "24/10/14 06:02:05 WARN util.Instrumentation: [ab2decaa] regParam is zero, which might cause numerical instability and overfitting.\n",
      "[Stage 45:>                                                         (0 + 8) / 8]24/10/14 06:02:08 WARN netlib.BLAS: Failed to load implementation from: com.github.fommil.netlib.NativeSystemBLAS\n",
      "24/10/14 06:02:08 WARN netlib.BLAS: Failed to load implementation from: com.github.fommil.netlib.NativeRefBLAS\n",
      "24/10/14 06:02:08 WARN netlib.LAPACK: Failed to load implementation from: com.github.fommil.netlib.NativeSystemLAPACK\n",
      "24/10/14 06:02:08 WARN netlib.LAPACK: Failed to load implementation from: com.github.fommil.netlib.NativeRefLAPACK\n",
      "                                                                                \r"
     ]
    }
   ],
   "source": [
    "# Fit the pipeline using the training data\n",
    "# your code goes here\n",
    "\n",
    "pipelineModel = pipelinenew.fit(trainingData)\n"
   ]
  },
  {
   "cell_type": "markdown",
   "metadata": {},
   "source": [
    "#### Part 2 - Evaluation\n"
   ]
  },
  {
   "cell_type": "markdown",
   "metadata": {},
   "source": [
    "\n",
    "**Run the code cell below.**<br>\n",
    "**Use the answers here to answer the final evaluation quiz in the next section.**<br>\n",
    "**If the code throws up any errors, go back and review the code you have written.**</b>\n"
   ]
  },
  {
   "cell_type": "code",
   "execution_count": 43,
   "metadata": {
    "tags": []
   },
   "outputs": [
    {
     "name": "stdout",
     "output_type": "stream",
     "text": [
      "Part 2 - Evaluation\n",
      "Total rows =  1499\n",
      "Pipeline Stage 1 =  VectorAssembler\n",
      "Pipeline Stage 2 =  StandardScaler\n",
      "Pipeline Stage 3 =  LinearRegression\n",
      "Label column =  SoundLevelDecibels\n"
     ]
    }
   ],
   "source": [
    "print(\"Part 2 - Evaluation\")\n",
    "print(\"Total rows = \", rowcount4)\n",
    "ps = [str(x).split(\"_\")[0] for x in pipelinenew.getStages()]\n",
    "\n",
    "print(\"Pipeline Stage 1 = \", ps[0])\n",
    "print(\"Pipeline Stage 2 = \", ps[1])\n",
    "print(\"Pipeline Stage 3 = \", ps[2])\n",
    "\n",
    "print(\"Label column = \", lr.getLabelCol())"
   ]
  },
  {
   "cell_type": "markdown",
   "metadata": {},
   "source": [
    "## Part 3 - Evaluate the Model\n"
   ]
  },
  {
   "cell_type": "markdown",
   "metadata": {},
   "source": [
    "### Task 1 - Predict using the model\n"
   ]
  },
  {
   "cell_type": "code",
   "execution_count": 44,
   "metadata": {
    "tags": []
   },
   "outputs": [],
   "source": [
    "# Make predictions on testing data\n",
    "# your code goes here\n",
    "\n",
    "predictions  = pipelineModel.transform(testingData)\n",
    "\n"
   ]
  },
  {
   "cell_type": "code",
   "execution_count": 45,
   "metadata": {
    "tags": []
   },
   "outputs": [
    {
     "name": "stderr",
     "output_type": "stream",
     "text": [
      "[Stage 52:>                                                         (0 + 1) / 1]"
     ]
    },
    {
     "name": "stdout",
     "output_type": "stream",
     "text": [
      "+---------+-------------+-----------+------------------+-----------------------+------------------+--------------------+--------------------+------------------+\n",
      "|Frequency|AngleOfAttack|ChordLength|FreeStreamVelocity|SuctionSideDisplacement|SoundLevelDecibels|                 mmm|                 sss|      predicted_sd|\n",
      "+---------+-------------+-----------+------------------+-----------------------+------------------+--------------------+--------------------+------------------+\n",
      "|      200|          9.9|     0.1524|              39.6|              0.0233328|           127.315|[200.0,9.9,0.1524...|[0.06338939572741...|123.64344009624753|\n",
      "|      200|         15.4|     0.0508|              31.7|              0.0289853|           119.975|[200.0,15.4,0.050...|[0.06338939572741...|123.48695788614877|\n",
      "|      200|         15.4|     0.0508|              39.6|              0.0282593|           121.783|[200.0,15.4,0.050...|[0.06338939572741...|124.38983849684254|\n",
      "|      250|         19.7|     0.0508|              39.6|               0.036484|           127.224|[250.0,19.7,0.050...|[0.07923674465927...|121.44706993294302|\n",
      "|      315|          4.0|     0.2286|              39.6|             0.00473801|           122.229|[315.0,4.0,0.2286...|[0.09983829827068...|125.68312652454188|\n",
      "|      315|         15.6|     0.1016|              39.6|              0.0528487|           122.754|[315.0,15.6,0.101...|[0.09983829827068...|119.00135887553772|\n",
      "|      400|          3.0|     0.3048|              71.3|             0.00425727|           127.564|[400.0,3.0,0.3048...|[0.12677879145483...| 126.5260736531985|\n",
      "|      400|          4.0|     0.2286|              31.7|             0.00509068|           126.149|[400.0,4.0,0.2286...|[0.12677879145483...|124.72369322766609|\n",
      "|      400|          8.4|     0.0508|              31.7|             0.00580776|           120.076|[400.0,8.4,0.0508...|[0.12677879145483...|129.24665689814083|\n",
      "|      400|          8.9|     0.1016|              71.3|              0.0103088|           138.123|[400.0,8.9,0.1016...|[0.12677879145483...|130.62951864347926|\n",
      "|      500|          4.0|     0.2286|              55.5|              0.0042862|           127.314|[500.0,4.0,0.2286...|[0.15847348931854...|127.13089533096246|\n",
      "|      500|          4.0|     0.3048|              71.3|             0.00497773|           130.715|[500.0,4.0,0.3048...|[0.15847348931854...|125.89163510250594|\n",
      "|      500|          5.4|     0.1524|              55.5|             0.00433288|           129.367|[500.0,5.4,0.1524...|[0.15847348931854...|129.30423088951827|\n",
      "|      500|          8.4|     0.0508|              39.6|             0.00566229|           122.905|[500.0,8.4,0.0508...|[0.15847348931854...| 129.9451290107514|\n",
      "|      500|         12.7|     0.0254|              39.6|              0.0130253|           127.127|[500.0,12.7,0.025...|[0.15847348931854...|128.10022579415522|\n",
      "|      630|          2.0|     0.2286|              39.6|             0.00346574|           127.417|[630.0,2.0,0.2286...|[0.19967659654136...|126.28072873047776|\n",
      "|      630|          3.0|     0.3048|              31.7|             0.00529514|           128.698|[630.0,3.0,0.3048...|[0.19967659654136...|122.06234864411809|\n",
      "|      630|          4.0|     0.3048|              39.6|             0.00579636|           131.073|[630.0,4.0,0.3048...|[0.19967659654136...|122.38819030163322|\n",
      "|      630|         12.3|     0.1016|              71.3|              0.0337792|           135.368|[630.0,12.3,0.101...|[0.19967659654136...|125.76877819819666|\n",
      "|      630|         17.4|     0.0254|              39.6|              0.0172206|           124.514|[630.0,17.4,0.025...|[0.19967659654136...|125.43708134590952|\n",
      "+---------+-------------+-----------+------------------+-----------------------+------------------+--------------------+--------------------+------------------+\n",
      "only showing top 20 rows\n",
      "\n"
     ]
    },
    {
     "name": "stderr",
     "output_type": "stream",
     "text": [
      "                                                                                \r"
     ]
    }
   ],
   "source": [
    "predictions.show()"
   ]
  },
  {
   "cell_type": "markdown",
   "metadata": {},
   "source": [
    "### Task 2 - Print the MSE\n"
   ]
  },
  {
   "cell_type": "code",
   "execution_count": 46,
   "metadata": {
    "tags": []
   },
   "outputs": [
    {
     "name": "stderr",
     "output_type": "stream",
     "text": [
      "[Stage 53:=============================>                            (4 + 4) / 8]"
     ]
    },
    {
     "name": "stdout",
     "output_type": "stream",
     "text": [
      "22.593754071348812\n"
     ]
    },
    {
     "name": "stderr",
     "output_type": "stream",
     "text": [
      "                                                                                \r"
     ]
    }
   ],
   "source": [
    "#your code goes here\n",
    "from pyspark.mllib.evaluation import RegressionMetrics\n",
    "valuesAndPreds = predictions.select(['SoundLevelDecibels', 'predicted_sd'])\n",
    "# It needs to convert to RDD as the parameter of RegressionMetrics\n",
    "valuesAndPreds = valuesAndPreds.rdd.map(tuple)\n",
    "\n",
    "\n",
    "metrics = RegressionMetrics(valuesAndPreds)\n",
    "#TODO\n",
    "#TODO\n",
    "mse = metrics.meanSquaredError\n",
    "print(mse)\n"
   ]
  },
  {
   "cell_type": "code",
   "execution_count": 47,
   "metadata": {
    "tags": []
   },
   "outputs": [
    {
     "name": "stderr",
     "output_type": "stream",
     "text": [
      "                                                                                \r"
     ]
    }
   ],
   "source": [
    "from pyspark.ml.evaluation import RegressionEvaluator\n",
    "\n",
    "evaluator = RegressionEvaluator(predictionCol=\"predicted_sd\", labelCol=\"SoundLevelDecibels\", metricName=\"mse\")\n",
    "mse = evaluator.evaluate(predictions)"
   ]
  },
  {
   "cell_type": "markdown",
   "metadata": {},
   "source": [
    "### Task 3 - Print the MAE\n"
   ]
  },
  {
   "cell_type": "code",
   "execution_count": 48,
   "metadata": {
    "tags": []
   },
   "outputs": [
    {
     "name": "stdout",
     "output_type": "stream",
     "text": [
      "3.7336902294631287\n"
     ]
    }
   ],
   "source": [
    "#your code goes here\n",
    "\n",
    "#TODO\n",
    "mae = metrics.meanAbsoluteError\n",
    "print(mae)\n"
   ]
  },
  {
   "cell_type": "code",
   "execution_count": 49,
   "metadata": {
    "tags": []
   },
   "outputs": [
    {
     "name": "stderr",
     "output_type": "stream",
     "text": [
      "[Stage 57:>                                                         (0 + 8) / 8]"
     ]
    },
    {
     "name": "stdout",
     "output_type": "stream",
     "text": [
      "3.7336902294631287\n"
     ]
    },
    {
     "name": "stderr",
     "output_type": "stream",
     "text": [
      "                                                                                \r"
     ]
    }
   ],
   "source": [
    "evaluator = RegressionEvaluator(predictionCol=\"predicted_sd\", labelCol=\"SoundLevelDecibels\", metricName=\"mae\")\n",
    "mae = evaluator.evaluate(predictions)\n",
    "print(mae)"
   ]
  },
  {
   "cell_type": "markdown",
   "metadata": {},
   "source": [
    "### Task 4 - Print the R-Squared(R2)\n"
   ]
  },
  {
   "cell_type": "code",
   "execution_count": 50,
   "metadata": {
    "tags": []
   },
   "outputs": [
    {
     "name": "stdout",
     "output_type": "stream",
     "text": [
      "0.06109667981825406\n"
     ]
    }
   ],
   "source": [
    "#your code goes here\n",
    "\n",
    "#TODO\n",
    "r2 = metrics.r2\n",
    "print(r2)\n"
   ]
  },
  {
   "cell_type": "code",
   "execution_count": 51,
   "metadata": {
    "tags": []
   },
   "outputs": [
    {
     "name": "stderr",
     "output_type": "stream",
     "text": [
      "[Stage 59:>                                                         (0 + 8) / 8]"
     ]
    },
    {
     "name": "stdout",
     "output_type": "stream",
     "text": [
      "0.5426016508689058\n"
     ]
    },
    {
     "name": "stderr",
     "output_type": "stream",
     "text": [
      "                                                                                \r"
     ]
    }
   ],
   "source": [
    "evaluator = RegressionEvaluator(predictionCol=\"predicted_sd\", labelCol=\"SoundLevelDecibels\", metricName=\"r2\")\n",
    "r2 = evaluator.evaluate(predictions)\n",
    "print(r2)"
   ]
  },
  {
   "cell_type": "markdown",
   "metadata": {
    "tags": []
   },
   "source": [
    "#### Part 3 - Evaluation\n"
   ]
  },
  {
   "cell_type": "markdown",
   "metadata": {},
   "source": [
    "\n",
    "**Run the code cell below.**<br>\n",
    "**Use the answers here to answer the final evaluation quiz in the next section.**<br>\n",
    "**If the code throws up any errors, go back and review the code you have written.**</b>\n"
   ]
  },
  {
   "cell_type": "code",
   "execution_count": 52,
   "metadata": {
    "tags": []
   },
   "outputs": [
    {
     "name": "stdout",
     "output_type": "stream",
     "text": [
      "Part 3 - Evaluation\n",
      "Mean Squared Error =  22.59\n",
      "Mean Absolute Error =  3.73\n",
      "R Squared =  0.54\n",
      "Intercept =  132.6\n"
     ]
    }
   ],
   "source": [
    "print(\"Part 3 - Evaluation\")\n",
    "\n",
    "print(\"Mean Squared Error = \", round(mse,2))\n",
    "print(\"Mean Absolute Error = \", round(mae,2))\n",
    "print(\"R Squared = \", round(r2,2))\n",
    "\n",
    "#lrModel = pipelineModel.stages[-1]\n",
    "\n",
    "lrModel = pipelineModel.stages[-1]\n",
    "\n",
    "print(\"Intercept = \", round(lrModel.intercept,2))"
   ]
  },
  {
   "cell_type": "markdown",
   "metadata": {},
   "source": [
    "## Part 4 - Persist the Model\n"
   ]
  },
  {
   "cell_type": "markdown",
   "metadata": {},
   "source": [
    "### Task 1 - Save the model to the path \"Final_Project\"\n"
   ]
  },
  {
   "cell_type": "code",
   "execution_count": 53,
   "metadata": {
    "tags": []
   },
   "outputs": [
    {
     "name": "stderr",
     "output_type": "stream",
     "text": [
      "                                                                                \r"
     ]
    }
   ],
   "source": [
    "# Save the pipeline model as \"Final_Project\"\n",
    "# your code goes here\n",
    "#mPath =  \"labs/authoride/IBMSkillsNetwork+BD0231EN/labs/\"\n",
    "#pipelineModel.write().save(\"aaaaaaaaa\")\n",
    "pipelineModel.write().overwrite().save(\"bbbbbb\")\n"
   ]
  },
  {
   "cell_type": "markdown",
   "metadata": {},
   "source": [
    "### Task 2 - Load the model from the path \"Final_Project\"\n"
   ]
  },
  {
   "cell_type": "code",
   "execution_count": 54,
   "metadata": {
    "tags": []
   },
   "outputs": [],
   "source": [
    "# Load the pipeline model you have created in the previous step\n",
    "loadedPipelineModel = pipelineModel.load(\"bbbbbb\")\n"
   ]
  },
  {
   "cell_type": "markdown",
   "metadata": {},
   "source": [
    "### Task 3 - Make predictions using the loaded model on the testdata\n"
   ]
  },
  {
   "cell_type": "code",
   "execution_count": 56,
   "metadata": {
    "tags": []
   },
   "outputs": [],
   "source": [
    "# Use the loaded pipeline model and make predictions using testingData\n",
    "predictions  = pipelineModel.transform(testingData)\n"
   ]
  },
  {
   "cell_type": "markdown",
   "metadata": {},
   "source": [
    "### Task 4 - Show the predictions\n"
   ]
  },
  {
   "cell_type": "code",
   "execution_count": 57,
   "metadata": {
    "tags": []
   },
   "outputs": [
    {
     "name": "stderr",
     "output_type": "stream",
     "text": [
      "[Stage 81:>                                                         (0 + 1) / 1]"
     ]
    },
    {
     "name": "stdout",
     "output_type": "stream",
     "text": [
      "+---------+-------------+-----------+------------------+-----------------------+------------------+--------------------+--------------------+------------------+\n",
      "|Frequency|AngleOfAttack|ChordLength|FreeStreamVelocity|SuctionSideDisplacement|SoundLevelDecibels|                 mmm|                 sss|      predicted_sd|\n",
      "+---------+-------------+-----------+------------------+-----------------------+------------------+--------------------+--------------------+------------------+\n",
      "|      200|          9.9|     0.1524|              39.6|              0.0233328|           127.315|[200.0,9.9,0.1524...|[0.06338939572741...|123.64344009624753|\n",
      "|      200|         15.4|     0.0508|              31.7|              0.0289853|           119.975|[200.0,15.4,0.050...|[0.06338939572741...|123.48695788614877|\n",
      "|      200|         15.4|     0.0508|              39.6|              0.0282593|           121.783|[200.0,15.4,0.050...|[0.06338939572741...|124.38983849684254|\n",
      "|      250|         19.7|     0.0508|              39.6|               0.036484|           127.224|[250.0,19.7,0.050...|[0.07923674465927...|121.44706993294302|\n",
      "|      315|          4.0|     0.2286|              39.6|             0.00473801|           122.229|[315.0,4.0,0.2286...|[0.09983829827068...|125.68312652454188|\n",
      "|      315|         15.6|     0.1016|              39.6|              0.0528487|           122.754|[315.0,15.6,0.101...|[0.09983829827068...|119.00135887553772|\n",
      "|      400|          3.0|     0.3048|              71.3|             0.00425727|           127.564|[400.0,3.0,0.3048...|[0.12677879145483...| 126.5260736531985|\n",
      "|      400|          4.0|     0.2286|              31.7|             0.00509068|           126.149|[400.0,4.0,0.2286...|[0.12677879145483...|124.72369322766609|\n",
      "|      400|          8.4|     0.0508|              31.7|             0.00580776|           120.076|[400.0,8.4,0.0508...|[0.12677879145483...|129.24665689814083|\n",
      "|      400|          8.9|     0.1016|              71.3|              0.0103088|           138.123|[400.0,8.9,0.1016...|[0.12677879145483...|130.62951864347926|\n",
      "|      500|          4.0|     0.2286|              55.5|              0.0042862|           127.314|[500.0,4.0,0.2286...|[0.15847348931854...|127.13089533096246|\n",
      "|      500|          4.0|     0.3048|              71.3|             0.00497773|           130.715|[500.0,4.0,0.3048...|[0.15847348931854...|125.89163510250594|\n",
      "|      500|          5.4|     0.1524|              55.5|             0.00433288|           129.367|[500.0,5.4,0.1524...|[0.15847348931854...|129.30423088951827|\n",
      "|      500|          8.4|     0.0508|              39.6|             0.00566229|           122.905|[500.0,8.4,0.0508...|[0.15847348931854...| 129.9451290107514|\n",
      "|      500|         12.7|     0.0254|              39.6|              0.0130253|           127.127|[500.0,12.7,0.025...|[0.15847348931854...|128.10022579415522|\n",
      "|      630|          2.0|     0.2286|              39.6|             0.00346574|           127.417|[630.0,2.0,0.2286...|[0.19967659654136...|126.28072873047776|\n",
      "|      630|          3.0|     0.3048|              31.7|             0.00529514|           128.698|[630.0,3.0,0.3048...|[0.19967659654136...|122.06234864411809|\n",
      "|      630|          4.0|     0.3048|              39.6|             0.00579636|           131.073|[630.0,4.0,0.3048...|[0.19967659654136...|122.38819030163322|\n",
      "|      630|         12.3|     0.1016|              71.3|              0.0337792|           135.368|[630.0,12.3,0.101...|[0.19967659654136...|125.76877819819666|\n",
      "|      630|         17.4|     0.0254|              39.6|              0.0172206|           124.514|[630.0,17.4,0.025...|[0.19967659654136...|125.43708134590952|\n",
      "+---------+-------------+-----------+------------------+-----------------------+------------------+--------------------+--------------------+------------------+\n",
      "only showing top 20 rows\n",
      "\n"
     ]
    },
    {
     "name": "stderr",
     "output_type": "stream",
     "text": [
      "                                                                                \r"
     ]
    }
   ],
   "source": [
    "#show top 5 rows from the predections dataframe. Display only the label column and predictions\n",
    "#your code goes here\n",
    "predictions.show()"
   ]
  },
  {
   "cell_type": "markdown",
   "metadata": {},
   "source": [
    "#### Part 4 - Evaluation\n"
   ]
  },
  {
   "cell_type": "markdown",
   "metadata": {},
   "source": [
    "\n",
    "\n",
    "**Run the code cell below.**<br>\n",
    "**Use the answers here to answer the final evaluation quiz in the next section.**<br>\n",
    "**If the code throws up any errors, go back and review the code you have written.**</b>\n"
   ]
  },
  {
   "cell_type": "code",
   "execution_count": 60,
   "metadata": {
    "tags": []
   },
   "outputs": [
    {
     "name": "stdout",
     "output_type": "stream",
     "text": [
      "Part 4 - Evaluation\n",
      "Number of stages in the pipeline =  3\n",
      "Coefficient for Frequency is -3.9728\n",
      "Coefficient for AngleOfAttack is -2.4775\n",
      "Coefficient for ChordLength is -3.3818\n",
      "Coefficient for FreeStreamVelocity is 1.5789\n",
      "Coefficient for SuctionSideDisplacement is -1.6465\n"
     ]
    }
   ],
   "source": [
    "print(\"Part 4 - Evaluation\")\n",
    "\n",
    "loadedmodel = loadedPipelineModel.stages[-1]\n",
    "totalstages = len(loadedPipelineModel.stages)\n",
    "inputcolumns = loadedPipelineModel.stages[0].getInputCols()\n",
    "\n",
    "print(\"Number of stages in the pipeline = \", totalstages)\n",
    "for i,j in zip(inputcolumns, loadedmodel.coefficients):\n",
    "    print(f\"Coefficient for {i} is {round(j,4)}\")"
   ]
  },
  {
   "cell_type": "code",
   "execution_count": 62,
   "metadata": {
    "tags": []
   },
   "outputs": [
    {
     "name": "stdout",
     "output_type": "stream",
     "text": [
      "[-3.9728079740154767,-2.477510117497856,-3.3817506717710835,1.5789334478964052,-1.6465101501795425]\n",
      "[-3.9728, -2.4775, -3.3818, 1.5789, -1.6465]\n"
     ]
    }
   ],
   "source": [
    "print(loadedmodel.coefficients)\n",
    "print([round(i,4) for i in loadedmodel.coefficients ])"
   ]
  },
  {
   "cell_type": "markdown",
   "metadata": {},
   "source": [
    "### Stop Spark Session\n"
   ]
  },
  {
   "cell_type": "code",
   "execution_count": 63,
   "metadata": {
    "tags": []
   },
   "outputs": [],
   "source": [
    "spark.stop()"
   ]
  },
  {
   "cell_type": "markdown",
   "metadata": {},
   "source": [
    "## Authors\n"
   ]
  },
  {
   "cell_type": "markdown",
   "metadata": {},
   "source": [
    "[Ramesh Sannareddy](https://www.linkedin.com/in/rsannareddy/?utm_medium=Exinfluencer&utm_source=Exinfluencer&utm_content=000026UJ&utm_term=10006555&utm_id=NA-SkillsNetwork-Channel-SkillsNetworkCoursesIBMBD0231ENSkillsNetwork866-2023-01-01)\n"
   ]
  },
  {
   "cell_type": "markdown",
   "metadata": {},
   "source": [
    "### Other Contributors\n"
   ]
  },
  {
   "cell_type": "markdown",
   "metadata": {},
   "source": [
    "## Change Log\n"
   ]
  },
  {
   "cell_type": "markdown",
   "metadata": {},
   "source": [
    "|Date (YYYY-MM-DD)|Version|Changed By|Change Description|\n",
    "|-|-|-|-|\n",
    "|2023-05-26|0.1|Ramesh Sannareddy|Initial Version Created|\n"
   ]
  },
  {
   "cell_type": "markdown",
   "metadata": {},
   "source": [
    "Copyright © 2023 IBM Corporation. All rights reserved.\n"
   ]
  }
 ],
 "metadata": {
  "kernelspec": {
   "display_name": "Python",
   "language": "python",
   "name": "conda-env-python-py"
  },
  "language_info": {
   "codemirror_mode": {
    "name": "ipython",
    "version": 3
   },
   "file_extension": ".py",
   "mimetype": "text/x-python",
   "name": "python",
   "nbconvert_exporter": "python",
   "pygments_lexer": "ipython3",
   "version": "3.7.12"
  },
  "prev_pub_hash": "7f2fb6b481a4fe3bc99b856722dc389d1754d5fd0bee488552bdf9a9d6e8cf82"
 },
 "nbformat": 4,
 "nbformat_minor": 4
}
